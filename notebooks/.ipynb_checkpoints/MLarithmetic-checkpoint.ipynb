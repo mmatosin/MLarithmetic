{
 "cells": [
  {
   "cell_type": "code",
   "execution_count": 1,
   "metadata": {},
   "outputs": [],
   "source": [
    "import pandas as pd\n",
    "import numpy as np\n",
    "import os#, time, random\n",
    "\n",
    "from sklearn.model_selection import StratifiedShuffleSplit, train_test_split,cross_val_score, cross_val_predict\n",
    "from sklearn.metrics import classification_report,confusion_matrix, precision_score, recall_score\n"
   ]
  },
  {
   "cell_type": "code",
   "execution_count": null,
   "metadata": {},
   "outputs": [],
   "source": []
  },
  {
   "cell_type": "markdown",
   "metadata": {},
   "source": [
    "#### Identify Directories"
   ]
  },
  {
   "cell_type": "code",
   "execution_count": 2,
   "metadata": {},
   "outputs": [],
   "source": [
    "currDir = os.getcwd()\n",
    "rootDir = os.path.abspath(os.path.join(currDir,'..'))\n",
    "\n",
    "dataDir = os.path.abspath(os.path.join(rootDir,'data'))\n",
    "rawDataDir = os.path.abspath(os.path.join(dataDir,'raw'))\n",
    "interimDataDir = os.path.abspath(os.path.join(dataDir,'interim'))\n",
    "finalDataDir = os.path.abspath(os.path.join(dataDir,'final'))"
   ]
  },
  {
   "cell_type": "code",
   "execution_count": null,
   "metadata": {},
   "outputs": [],
   "source": []
  },
  {
   "cell_type": "markdown",
   "metadata": {},
   "source": [
    "#### Helper Functions"
   ]
  },
  {
   "cell_type": "code",
   "execution_count": 3,
   "metadata": {},
   "outputs": [],
   "source": [
    "def evaluate_model(model,X_train,y_train,cv_folds=5):\n",
    "        \n",
    "    predictions   = cross_val_predict(model, X_train, y_train, cv=cv_folds)\n",
    "\n",
    "    cv_accuracies = cross_val_score(model, X_train, y_train, \n",
    "                                    cv=cv_folds, scoring=\"accuracy\")\n",
    "        \n",
    "    conf_matrix = classification_report(y_train, predictions)\n",
    "    '''    \n",
    "    try:\n",
    "        # only for binary classification\n",
    "        precision = precision_score(y_train, predictions)\n",
    "        recall    = recall_score(y_train, predictions)\n",
    "    except:\n",
    "        # for multi-class classification\n",
    "        precision = precision_score(y_train, predictions, average=None)\n",
    "        recall    = recall_score(y_train, predictions, average=None)  \n",
    "    '''\n",
    "    #### PRINT KEY DATA ####\n",
    "    \n",
    "    print(f\"{cv_folds} Cross Validations\")\n",
    "    print(\"Mean CV Accuracy\",np.round(np.mean(cv_accuracies),2))\n",
    "    print(\"CV Accuracies:\",cv_accuracies)\n",
    "    print(\"\\n\") \n",
    "    \n",
    "    print(\"Confusion Matrix:\")\n",
    "    print(conf_matrix)\n",
    "    '''\n",
    "    print(\"\\n\") \n",
    "\n",
    "    print(\"Precision Score:\",np.round(precision,2))\n",
    "    print('Recall Score:',np.round(recall,2))\n",
    "    '''\n",
    "    #### RETURN DATA\n",
    "    \n",
    "    return predictions, conf_matrix"
   ]
  },
  {
   "cell_type": "code",
   "execution_count": null,
   "metadata": {},
   "outputs": [],
   "source": []
  },
  {
   "cell_type": "markdown",
   "metadata": {},
   "source": [
    "#### Getting Data"
   ]
  },
  {
   "cell_type": "code",
   "execution_count": 4,
   "metadata": {},
   "outputs": [],
   "source": [
    "MAX_INT = 100\n",
    "\n",
    "LEN = 10_000\n",
    "DIMS = (LEN,2)\n",
    "\n",
    "cols = [\"A\",\"B\"]\n",
    "\n",
    "addition = pd.DataFrame(np.random.randint(MAX_INT+1, size=DIMS),columns=cols)\n",
    "addition['C'] = addition['A'] + addition['B']\n",
    "addition['Label'] = 'Addition'\n",
    "\n",
    "subtraction = pd.DataFrame(np.random.randint(MAX_INT+1, size=DIMS),columns=cols)\n",
    "subtraction['C'] = subtraction['A'] - subtraction['B']\n",
    "subtraction['Label'] = 'Subtraction'\n",
    "\n",
    "multiplication = pd.DataFrame(np.random.randint(MAX_INT+1, size=DIMS)\n",
    "                              ,columns=cols)\n",
    "multiplication['C'] = multiplication['A'] * multiplication['B']\n",
    "multiplication['Label'] = 'Multiplication'\n",
    "\n",
    "division = pd.DataFrame(np.random.randint(MAX_INT+1, size=DIMS),columns=cols)\n",
    "division['C'] = division['A'] / division['B']\n",
    "division['Label'] = 'Division'\n",
    "#division = np.round(division,2)"
   ]
  },
  {
   "cell_type": "code",
   "execution_count": 5,
   "metadata": {},
   "outputs": [
    {
     "name": "stdout",
     "output_type": "stream",
     "text": [
      "(39903, 4)\n"
     ]
    }
   ],
   "source": [
    "# concatenate dataframes\n",
    "df_list = [addition,subtraction,multiplication,division]\n",
    "df = pd.concat(df_list,ignore_index=True)\n",
    "\n",
    "# drop rows where division['y'] == np.inf\n",
    "df = df[df['C']!=np.inf]\n",
    "\n",
    "# shuffle dataframe\n",
    "df = df.sample(frac=1,random_state=42)\n",
    "\n",
    "# drop NULLs\n",
    "df.dropna(inplace=True)\n",
    "\n",
    "# round dataframe and reset index\n",
    "df = np.round(df,2)\n",
    "df.reset_index(drop=True,inplace=True)\n",
    "\n",
    "print(df.shape)"
   ]
  },
  {
   "cell_type": "code",
   "execution_count": 6,
   "metadata": {},
   "outputs": [
    {
     "data": {
      "text/html": [
       "<div>\n",
       "<style scoped>\n",
       "    .dataframe tbody tr th:only-of-type {\n",
       "        vertical-align: middle;\n",
       "    }\n",
       "\n",
       "    .dataframe tbody tr th {\n",
       "        vertical-align: top;\n",
       "    }\n",
       "\n",
       "    .dataframe thead th {\n",
       "        text-align: right;\n",
       "    }\n",
       "</style>\n",
       "<table border=\"1\" class=\"dataframe\">\n",
       "  <thead>\n",
       "    <tr style=\"text-align: right;\">\n",
       "      <th></th>\n",
       "      <th>A</th>\n",
       "      <th>B</th>\n",
       "      <th>C</th>\n",
       "      <th>Label</th>\n",
       "    </tr>\n",
       "  </thead>\n",
       "  <tbody>\n",
       "    <tr>\n",
       "      <th>0</th>\n",
       "      <td>95</td>\n",
       "      <td>48</td>\n",
       "      <td>143.00</td>\n",
       "      <td>Addition</td>\n",
       "    </tr>\n",
       "    <tr>\n",
       "      <th>1</th>\n",
       "      <td>83</td>\n",
       "      <td>8</td>\n",
       "      <td>10.38</td>\n",
       "      <td>Division</td>\n",
       "    </tr>\n",
       "    <tr>\n",
       "      <th>2</th>\n",
       "      <td>48</td>\n",
       "      <td>11</td>\n",
       "      <td>59.00</td>\n",
       "      <td>Addition</td>\n",
       "    </tr>\n",
       "    <tr>\n",
       "      <th>3</th>\n",
       "      <td>68</td>\n",
       "      <td>50</td>\n",
       "      <td>1.36</td>\n",
       "      <td>Division</td>\n",
       "    </tr>\n",
       "    <tr>\n",
       "      <th>4</th>\n",
       "      <td>20</td>\n",
       "      <td>24</td>\n",
       "      <td>-4.00</td>\n",
       "      <td>Subtraction</td>\n",
       "    </tr>\n",
       "  </tbody>\n",
       "</table>\n",
       "</div>"
      ],
      "text/plain": [
       "    A   B       C        Label\n",
       "0  95  48  143.00     Addition\n",
       "1  83   8   10.38     Division\n",
       "2  48  11   59.00     Addition\n",
       "3  68  50    1.36     Division\n",
       "4  20  24   -4.00  Subtraction"
      ]
     },
     "execution_count": 6,
     "metadata": {},
     "output_type": "execute_result"
    }
   ],
   "source": [
    "df.head()"
   ]
  },
  {
   "cell_type": "code",
   "execution_count": null,
   "metadata": {},
   "outputs": [],
   "source": []
  },
  {
   "cell_type": "markdown",
   "metadata": {},
   "source": [
    "#### Prep Data for ML"
   ]
  },
  {
   "cell_type": "code",
   "execution_count": 7,
   "metadata": {},
   "outputs": [
    {
     "name": "stdout",
     "output_type": "stream",
     "text": [
      "Training set size: 27932\n",
      "Test set size: 11971\n"
     ]
    }
   ],
   "source": [
    "# perform stratified random shuffling \n",
    "splitter = StratifiedShuffleSplit(n_splits=1,test_size=0.3,random_state=42)\n",
    "for train_idx,test_idx in splitter.split(df,df['Label']):\n",
    "    strat_train_set = df.loc[train_idx]\n",
    "    strat_test_set = df.loc[test_idx]\n",
    "\n",
    "# create train/test sets from stratified shuffle\n",
    "X_train, X_test = strat_train_set[['A','B','C']].values, strat_test_set[['A','B','C']].values\n",
    "y_train, y_test = strat_train_set['Label'].values, strat_test_set['Label'].values\n",
    "\n",
    "print(\"Training set size:\",len(strat_train_set))\n",
    "print(\"Test set size:\",len(strat_test_set))"
   ]
  },
  {
   "cell_type": "code",
   "execution_count": null,
   "metadata": {},
   "outputs": [],
   "source": []
  },
  {
   "cell_type": "markdown",
   "metadata": {},
   "source": [
    "#### Multi-Class Classifier"
   ]
  },
  {
   "cell_type": "code",
   "execution_count": 8,
   "metadata": {},
   "outputs": [],
   "source": [
    "#from sklearn.linear_model import SGDClassifier\n",
    "from sklearn.ensemble import RandomForestClassifier\n",
    "from sklearn import svm\n"
   ]
  },
  {
   "cell_type": "code",
   "execution_count": null,
   "metadata": {},
   "outputs": [],
   "source": []
  },
  {
   "cell_type": "code",
   "execution_count": 9,
   "metadata": {},
   "outputs": [
    {
     "name": "stdout",
     "output_type": "stream",
     "text": [
      "5 Cross Validations\n",
      "Mean CV Accuracy 0.98\n",
      "CV Accuracies: [0.98389118 0.97977448 0.98496241 0.98066595 0.98227712]\n",
      "\n",
      "\n",
      "Confusion Matrix:\n",
      "                precision    recall  f1-score   support\n",
      "\n",
      "      Addition       0.98      0.98      0.98      7000\n",
      "      Division       0.98      0.98      0.98      6932\n",
      "Multiplication       0.98      0.98      0.98      7000\n",
      "   Subtraction       0.99      0.98      0.98      7000\n",
      "\n",
      "      accuracy                           0.98     27932\n",
      "     macro avg       0.98      0.98      0.98     27932\n",
      "  weighted avg       0.98      0.98      0.98     27932\n",
      "\n"
     ]
    }
   ],
   "source": [
    "# random forest\n",
    "rf = RandomForestClassifier(n_estimators=100, random_state=42)\n",
    "rf.fit(X_train, y_train);\n",
    "\n",
    "preds, conf_matrix = evaluate_model(rf,X_train,y_train,cv_folds=5)"
   ]
  },
  {
   "cell_type": "code",
   "execution_count": 100,
   "metadata": {},
   "outputs": [],
   "source": []
  },
  {
   "cell_type": "code",
   "execution_count": 104,
   "metadata": {},
   "outputs": [
    {
     "name": "stdout",
     "output_type": "stream",
     "text": [
      "Accuracy: 98.48801269735193\n"
     ]
    }
   ],
   "source": [
    "preds = rf.predict(X_test)\n",
    "\n",
    "rf_results = pd.DataFrame([y_test,preds]).T\n",
    "rf_results.columns = ['Label','Pred']\n",
    "\n",
    "acc = len(rf_results[rf_results['Label']==rf_results['Pred']])/len(rf_results)\n",
    "\n",
    "print(\"Accuracy:\",acc*100)"
   ]
  },
  {
   "cell_type": "code",
   "execution_count": null,
   "metadata": {},
   "outputs": [],
   "source": []
  },
  {
   "cell_type": "code",
   "execution_count": 10,
   "metadata": {},
   "outputs": [
    {
     "data": {
      "text/plain": [
       "\"\\n# SVM\\nsvc = svm.SVC(gamma='auto', random_state=42)\\nsvc.fit(X_train, y_train);\\n\\npreds, conf_matrix = evaluate_model(svc,X_train,y_train,cv_folds=5)\\n\""
      ]
     },
     "execution_count": 10,
     "metadata": {},
     "output_type": "execute_result"
    }
   ],
   "source": [
    "'''\n",
    "# SVM\n",
    "svc = svm.SVC(gamma='auto', random_state=42)\n",
    "svc.fit(X_train, y_train);\n",
    "\n",
    "preds, conf_matrix = evaluate_model(svc,X_train,y_train,cv_folds=5)\n",
    "'''"
   ]
  },
  {
   "cell_type": "code",
   "execution_count": null,
   "metadata": {},
   "outputs": [],
   "source": []
  },
  {
   "cell_type": "markdown",
   "metadata": {},
   "source": [
    "#### Plotting Random Forest Tree Structure"
   ]
  },
  {
   "cell_type": "code",
   "execution_count": null,
   "metadata": {},
   "outputs": [],
   "source": []
  },
  {
   "cell_type": "markdown",
   "metadata": {},
   "source": [
    "#### Random Forest Hyperparameter Tuning"
   ]
  },
  {
   "cell_type": "code",
   "execution_count": null,
   "metadata": {},
   "outputs": [],
   "source": []
  },
  {
   "cell_type": "code",
   "execution_count": null,
   "metadata": {},
   "outputs": [],
   "source": []
  },
  {
   "cell_type": "markdown",
   "metadata": {},
   "source": [
    "#### Neural Network"
   ]
  },
  {
   "cell_type": "code",
   "execution_count": 23,
   "metadata": {},
   "outputs": [],
   "source": [
    "import tensorflow as tf\n",
    "from sklearn.preprocessing import OneHotEncoder"
   ]
  },
  {
   "cell_type": "code",
   "execution_count": 42,
   "metadata": {},
   "outputs": [],
   "source": [
    "### one-hot encoding y variables\n",
    "\n",
    "enc = OneHotEncoder(handle_unknown='ignore')\n",
    "y_train_encoded = enc.fit_transform(y_train.reshape(-1,1))\n",
    "y_test_encoded = enc.fit_transform(y_test.reshape(-1,1))\n"
   ]
  },
  {
   "cell_type": "code",
   "execution_count": null,
   "metadata": {},
   "outputs": [],
   "source": []
  },
  {
   "cell_type": "code",
   "execution_count": null,
   "metadata": {},
   "outputs": [],
   "source": []
  },
  {
   "cell_type": "code",
   "execution_count": 43,
   "metadata": {},
   "outputs": [],
   "source": [
    "def build_model(train_dataset,activation_fn='relu',num_of_nodes=32):\n",
    "    \n",
    "    model = tf.keras.Sequential([\n",
    "        \n",
    "    tf.keras.layers.Dense(num_of_nodes, activation=activation_fn, \n",
    "                          input_shape=[train_dataset.shape[-1]]),\n",
    "    tf.keras.layers.Dense(num_of_nodes*2, activation=activation_fn),\n",
    "    tf.keras.layers.Dense(num_of_nodes*2, activation=activation_fn),\n",
    "    tf.keras.layers.Dense(num_of_nodes, activation=activation_fn),\n",
    "    tf.keras.layers.Dense(4, activation='softmax')\n",
    "        \n",
    "    ])\n",
    "\n",
    "    #optimizer = 'adam' #tf.keras.optimizers.RMSprop(0.001)\n",
    "    optimizer = tf.keras.optimizers.Adam(learning_rate=0.0001)\n",
    "    \n",
    "    model.compile(loss='mae',\n",
    "                  optimizer=optimizer,\n",
    "                  metrics=['mae', 'mse'])\n",
    "    return model"
   ]
  },
  {
   "cell_type": "code",
   "execution_count": null,
   "metadata": {},
   "outputs": [],
   "source": []
  },
  {
   "cell_type": "code",
   "execution_count": 95,
   "metadata": {},
   "outputs": [],
   "source": [
    "# model = build_model(X_train,activation_fn='relu',num_of_nodes=64)\n",
    "nn = build_model(X_train,activation_fn='sigmoid',num_of_nodes=64)"
   ]
  },
  {
   "cell_type": "code",
   "execution_count": 96,
   "metadata": {},
   "outputs": [
    {
     "name": "stdout",
     "output_type": "stream",
     "text": [
      "Model: \"sequential_2\"\n",
      "_________________________________________________________________\n",
      "Layer (type)                 Output Shape              Param #   \n",
      "=================================================================\n",
      "dense_10 (Dense)             (None, 64)                256       \n",
      "_________________________________________________________________\n",
      "dense_11 (Dense)             (None, 128)               8320      \n",
      "_________________________________________________________________\n",
      "dense_12 (Dense)             (None, 128)               16512     \n",
      "_________________________________________________________________\n",
      "dense_13 (Dense)             (None, 64)                8256      \n",
      "_________________________________________________________________\n",
      "dense_14 (Dense)             (None, 4)                 260       \n",
      "=================================================================\n",
      "Total params: 33,604\n",
      "Trainable params: 33,604\n",
      "Non-trainable params: 0\n",
      "_________________________________________________________________\n"
     ]
    }
   ],
   "source": [
    "nn.summary()"
   ]
  },
  {
   "cell_type": "code",
   "execution_count": null,
   "metadata": {},
   "outputs": [],
   "source": []
  },
  {
   "cell_type": "code",
   "execution_count": 97,
   "metadata": {},
   "outputs": [
    {
     "data": {
      "text/plain": [
       "<tensorflow.python.keras.callbacks.History at 0x1bf804bde48>"
      ]
     },
     "execution_count": 97,
     "metadata": {},
     "output_type": "execute_result"
    }
   ],
   "source": [
    "EPOCHS = 100\n",
    "\n",
    "nn.fit(X_train,y_train_encoded,\n",
    "          epochs=EPOCHS, \n",
    "          validation_split = 0.2, \n",
    "          verbose=0)"
   ]
  },
  {
   "cell_type": "code",
   "execution_count": 98,
   "metadata": {},
   "outputs": [
    {
     "name": "stdout",
     "output_type": "stream",
     "text": [
      "11971/11971 - 1s - loss: 0.0648 - mean_absolute_error: 0.0648 - mean_squared_error: 0.0648\n"
     ]
    },
    {
     "data": {
      "text/plain": [
       "[0.06484539245077518, 0.06484544, 0.064751096]"
      ]
     },
     "execution_count": 98,
     "metadata": {},
     "output_type": "execute_result"
    }
   ],
   "source": [
    "preds = nn.predict(X_test)\n",
    "flat_preds = np.argmax(preds,axis=1)\n",
    "nn.evaluate(X_test, y_test_encoded, verbose=2)"
   ]
  },
  {
   "cell_type": "code",
   "execution_count": 77,
   "metadata": {},
   "outputs": [],
   "source": [
    "# preds = nn.predict(X_test).flatten()"
   ]
  },
  {
   "cell_type": "code",
   "execution_count": 109,
   "metadata": {},
   "outputs": [
    {
     "name": "stdout",
     "output_type": "stream",
     "text": [
      "Accuracy: 87.03533539386852\n"
     ]
    }
   ],
   "source": [
    "feature_list = enc.categories_[0]\n",
    "\n",
    "nn_results = pd.DataFrame((y_test,flat_preds)).T\n",
    "nn_results.columns = [\"Label\",\"Index Pred\"]\n",
    "\n",
    "nn_results['Pred'] = [feature_list[idx] for idx in nn_results[\"Index Pred\"].values]\n",
    "del nn_results['Index Pred']\n",
    "\n",
    "acc = len(nn_results[nn_results['Label']==nn_results['Pred']])/len(nn_results)\n",
    "\n",
    "print(\"Accuracy:\",acc*100)\n",
    "\n",
    "# relu accuracy: 74.3045693759919\n",
    "# sigmoid accuracy: 87.03533539386852"
   ]
  },
  {
   "cell_type": "code",
   "execution_count": 110,
   "metadata": {},
   "outputs": [
    {
     "data": {
      "text/html": [
       "<div>\n",
       "<style scoped>\n",
       "    .dataframe tbody tr th:only-of-type {\n",
       "        vertical-align: middle;\n",
       "    }\n",
       "\n",
       "    .dataframe tbody tr th {\n",
       "        vertical-align: top;\n",
       "    }\n",
       "\n",
       "    .dataframe thead th {\n",
       "        text-align: right;\n",
       "    }\n",
       "</style>\n",
       "<table border=\"1\" class=\"dataframe\">\n",
       "  <thead>\n",
       "    <tr style=\"text-align: right;\">\n",
       "      <th></th>\n",
       "      <th>Label</th>\n",
       "      <th>Pred</th>\n",
       "    </tr>\n",
       "  </thead>\n",
       "  <tbody>\n",
       "    <tr>\n",
       "      <th>0</th>\n",
       "      <td>Subtraction</td>\n",
       "      <td>Subtraction</td>\n",
       "    </tr>\n",
       "    <tr>\n",
       "      <th>1</th>\n",
       "      <td>Multiplication</td>\n",
       "      <td>Multiplication</td>\n",
       "    </tr>\n",
       "    <tr>\n",
       "      <th>2</th>\n",
       "      <td>Multiplication</td>\n",
       "      <td>Multiplication</td>\n",
       "    </tr>\n",
       "    <tr>\n",
       "      <th>3</th>\n",
       "      <td>Subtraction</td>\n",
       "      <td>Subtraction</td>\n",
       "    </tr>\n",
       "    <tr>\n",
       "      <th>4</th>\n",
       "      <td>Division</td>\n",
       "      <td>Division</td>\n",
       "    </tr>\n",
       "    <tr>\n",
       "      <th>5</th>\n",
       "      <td>Division</td>\n",
       "      <td>Division</td>\n",
       "    </tr>\n",
       "    <tr>\n",
       "      <th>6</th>\n",
       "      <td>Multiplication</td>\n",
       "      <td>Multiplication</td>\n",
       "    </tr>\n",
       "    <tr>\n",
       "      <th>7</th>\n",
       "      <td>Addition</td>\n",
       "      <td>Addition</td>\n",
       "    </tr>\n",
       "    <tr>\n",
       "      <th>8</th>\n",
       "      <td>Subtraction</td>\n",
       "      <td>Subtraction</td>\n",
       "    </tr>\n",
       "    <tr>\n",
       "      <th>9</th>\n",
       "      <td>Multiplication</td>\n",
       "      <td>Multiplication</td>\n",
       "    </tr>\n",
       "    <tr>\n",
       "      <th>10</th>\n",
       "      <td>Addition</td>\n",
       "      <td>Addition</td>\n",
       "    </tr>\n",
       "    <tr>\n",
       "      <th>11</th>\n",
       "      <td>Division</td>\n",
       "      <td>Subtraction</td>\n",
       "    </tr>\n",
       "    <tr>\n",
       "      <th>12</th>\n",
       "      <td>Division</td>\n",
       "      <td>Division</td>\n",
       "    </tr>\n",
       "    <tr>\n",
       "      <th>13</th>\n",
       "      <td>Division</td>\n",
       "      <td>Division</td>\n",
       "    </tr>\n",
       "    <tr>\n",
       "      <th>14</th>\n",
       "      <td>Addition</td>\n",
       "      <td>Addition</td>\n",
       "    </tr>\n",
       "  </tbody>\n",
       "</table>\n",
       "</div>"
      ],
      "text/plain": [
       "             Label            Pred\n",
       "0      Subtraction     Subtraction\n",
       "1   Multiplication  Multiplication\n",
       "2   Multiplication  Multiplication\n",
       "3      Subtraction     Subtraction\n",
       "4         Division        Division\n",
       "5         Division        Division\n",
       "6   Multiplication  Multiplication\n",
       "7         Addition        Addition\n",
       "8      Subtraction     Subtraction\n",
       "9   Multiplication  Multiplication\n",
       "10        Addition        Addition\n",
       "11        Division     Subtraction\n",
       "12        Division        Division\n",
       "13        Division        Division\n",
       "14        Addition        Addition"
      ]
     },
     "execution_count": 110,
     "metadata": {},
     "output_type": "execute_result"
    }
   ],
   "source": [
    "nn_results.head(15)"
   ]
  },
  {
   "cell_type": "code",
   "execution_count": 111,
   "metadata": {},
   "outputs": [
    {
     "data": {
      "text/html": [
       "<div>\n",
       "<style scoped>\n",
       "    .dataframe tbody tr th:only-of-type {\n",
       "        vertical-align: middle;\n",
       "    }\n",
       "\n",
       "    .dataframe tbody tr th {\n",
       "        vertical-align: top;\n",
       "    }\n",
       "\n",
       "    .dataframe thead th {\n",
       "        text-align: right;\n",
       "    }\n",
       "</style>\n",
       "<table border=\"1\" class=\"dataframe\">\n",
       "  <thead>\n",
       "    <tr style=\"text-align: right;\">\n",
       "      <th></th>\n",
       "      <th>Label</th>\n",
       "      <th>Pred</th>\n",
       "    </tr>\n",
       "  </thead>\n",
       "  <tbody>\n",
       "    <tr>\n",
       "      <th>0</th>\n",
       "      <td>Subtraction</td>\n",
       "      <td>Subtraction</td>\n",
       "    </tr>\n",
       "    <tr>\n",
       "      <th>1</th>\n",
       "      <td>Multiplication</td>\n",
       "      <td>Multiplication</td>\n",
       "    </tr>\n",
       "    <tr>\n",
       "      <th>2</th>\n",
       "      <td>Multiplication</td>\n",
       "      <td>Multiplication</td>\n",
       "    </tr>\n",
       "    <tr>\n",
       "      <th>3</th>\n",
       "      <td>Subtraction</td>\n",
       "      <td>Subtraction</td>\n",
       "    </tr>\n",
       "    <tr>\n",
       "      <th>4</th>\n",
       "      <td>Division</td>\n",
       "      <td>Division</td>\n",
       "    </tr>\n",
       "    <tr>\n",
       "      <th>5</th>\n",
       "      <td>Division</td>\n",
       "      <td>Division</td>\n",
       "    </tr>\n",
       "    <tr>\n",
       "      <th>6</th>\n",
       "      <td>Multiplication</td>\n",
       "      <td>Multiplication</td>\n",
       "    </tr>\n",
       "    <tr>\n",
       "      <th>7</th>\n",
       "      <td>Addition</td>\n",
       "      <td>Addition</td>\n",
       "    </tr>\n",
       "    <tr>\n",
       "      <th>8</th>\n",
       "      <td>Subtraction</td>\n",
       "      <td>Subtraction</td>\n",
       "    </tr>\n",
       "    <tr>\n",
       "      <th>9</th>\n",
       "      <td>Multiplication</td>\n",
       "      <td>Multiplication</td>\n",
       "    </tr>\n",
       "    <tr>\n",
       "      <th>10</th>\n",
       "      <td>Addition</td>\n",
       "      <td>Addition</td>\n",
       "    </tr>\n",
       "    <tr>\n",
       "      <th>11</th>\n",
       "      <td>Division</td>\n",
       "      <td>Division</td>\n",
       "    </tr>\n",
       "    <tr>\n",
       "      <th>12</th>\n",
       "      <td>Division</td>\n",
       "      <td>Division</td>\n",
       "    </tr>\n",
       "    <tr>\n",
       "      <th>13</th>\n",
       "      <td>Division</td>\n",
       "      <td>Division</td>\n",
       "    </tr>\n",
       "    <tr>\n",
       "      <th>14</th>\n",
       "      <td>Addition</td>\n",
       "      <td>Addition</td>\n",
       "    </tr>\n",
       "    <tr>\n",
       "      <th>15</th>\n",
       "      <td>Addition</td>\n",
       "      <td>Addition</td>\n",
       "    </tr>\n",
       "    <tr>\n",
       "      <th>16</th>\n",
       "      <td>Division</td>\n",
       "      <td>Division</td>\n",
       "    </tr>\n",
       "    <tr>\n",
       "      <th>17</th>\n",
       "      <td>Addition</td>\n",
       "      <td>Addition</td>\n",
       "    </tr>\n",
       "    <tr>\n",
       "      <th>18</th>\n",
       "      <td>Division</td>\n",
       "      <td>Division</td>\n",
       "    </tr>\n",
       "    <tr>\n",
       "      <th>19</th>\n",
       "      <td>Subtraction</td>\n",
       "      <td>Subtraction</td>\n",
       "    </tr>\n",
       "    <tr>\n",
       "      <th>20</th>\n",
       "      <td>Division</td>\n",
       "      <td>Division</td>\n",
       "    </tr>\n",
       "    <tr>\n",
       "      <th>21</th>\n",
       "      <td>Subtraction</td>\n",
       "      <td>Subtraction</td>\n",
       "    </tr>\n",
       "    <tr>\n",
       "      <th>22</th>\n",
       "      <td>Subtraction</td>\n",
       "      <td>Subtraction</td>\n",
       "    </tr>\n",
       "    <tr>\n",
       "      <th>23</th>\n",
       "      <td>Addition</td>\n",
       "      <td>Addition</td>\n",
       "    </tr>\n",
       "    <tr>\n",
       "      <th>24</th>\n",
       "      <td>Multiplication</td>\n",
       "      <td>Multiplication</td>\n",
       "    </tr>\n",
       "    <tr>\n",
       "      <th>25</th>\n",
       "      <td>Subtraction</td>\n",
       "      <td>Subtraction</td>\n",
       "    </tr>\n",
       "    <tr>\n",
       "      <th>26</th>\n",
       "      <td>Addition</td>\n",
       "      <td>Addition</td>\n",
       "    </tr>\n",
       "    <tr>\n",
       "      <th>27</th>\n",
       "      <td>Division</td>\n",
       "      <td>Division</td>\n",
       "    </tr>\n",
       "    <tr>\n",
       "      <th>28</th>\n",
       "      <td>Subtraction</td>\n",
       "      <td>Subtraction</td>\n",
       "    </tr>\n",
       "    <tr>\n",
       "      <th>29</th>\n",
       "      <td>Multiplication</td>\n",
       "      <td>Multiplication</td>\n",
       "    </tr>\n",
       "  </tbody>\n",
       "</table>\n",
       "</div>"
      ],
      "text/plain": [
       "             Label            Pred\n",
       "0      Subtraction     Subtraction\n",
       "1   Multiplication  Multiplication\n",
       "2   Multiplication  Multiplication\n",
       "3      Subtraction     Subtraction\n",
       "4         Division        Division\n",
       "5         Division        Division\n",
       "6   Multiplication  Multiplication\n",
       "7         Addition        Addition\n",
       "8      Subtraction     Subtraction\n",
       "9   Multiplication  Multiplication\n",
       "10        Addition        Addition\n",
       "11        Division        Division\n",
       "12        Division        Division\n",
       "13        Division        Division\n",
       "14        Addition        Addition\n",
       "15        Addition        Addition\n",
       "16        Division        Division\n",
       "17        Addition        Addition\n",
       "18        Division        Division\n",
       "19     Subtraction     Subtraction\n",
       "20        Division        Division\n",
       "21     Subtraction     Subtraction\n",
       "22     Subtraction     Subtraction\n",
       "23        Addition        Addition\n",
       "24  Multiplication  Multiplication\n",
       "25     Subtraction     Subtraction\n",
       "26        Addition        Addition\n",
       "27        Division        Division\n",
       "28     Subtraction     Subtraction\n",
       "29  Multiplication  Multiplication"
      ]
     },
     "execution_count": 111,
     "metadata": {},
     "output_type": "execute_result"
    }
   ],
   "source": [
    "rf_results.head(30)"
   ]
  },
  {
   "cell_type": "code",
   "execution_count": null,
   "metadata": {},
   "outputs": [],
   "source": []
  },
  {
   "cell_type": "code",
   "execution_count": null,
   "metadata": {},
   "outputs": [],
   "source": []
  },
  {
   "cell_type": "code",
   "execution_count": null,
   "metadata": {},
   "outputs": [],
   "source": []
  }
 ],
 "metadata": {
  "kernelspec": {
   "display_name": "Python 3",
   "language": "python",
   "name": "python3"
  },
  "language_info": {
   "codemirror_mode": {
    "name": "ipython",
    "version": 3
   },
   "file_extension": ".py",
   "mimetype": "text/x-python",
   "name": "python",
   "nbconvert_exporter": "python",
   "pygments_lexer": "ipython3",
   "version": "3.7.3"
  }
 },
 "nbformat": 4,
 "nbformat_minor": 4
}
